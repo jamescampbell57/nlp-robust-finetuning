{
 "cells": [
  {
   "cell_type": "code",
   "execution_count": 1,
   "metadata": {},
   "outputs": [],
   "source": [
    "import breeds"
   ]
  },
  {
   "cell_type": "code",
   "execution_count": 2,
   "metadata": {},
   "outputs": [
    {
     "name": "stdout",
     "output_type": "stream",
     "text": [
      "167120\n"
     ]
    }
   ],
   "source": [
    "ds = breeds.Breeds('/home/ubuntu/scr/biggest/imagenet', 'entity13', source=True, target=False)\n",
    "print(len(ds))"
   ]
  },
  {
   "cell_type": "code",
   "execution_count": 3,
   "metadata": {},
   "outputs": [
    {
     "name": "stdout",
     "output_type": "stream",
     "text": [
      "153565\n"
     ]
    }
   ],
   "source": [
    "ds = breeds.Breeds('/home/ubuntu/scr/biggest/imagenet/', 'entity30', source=False, target=True)\n",
    "print(len(ds))"
   ]
  },
  {
   "cell_type": "code",
   "execution_count": 4,
   "metadata": {},
   "outputs": [
    {
     "name": "stdout",
     "output_type": "stream",
     "text": [
      "44200\n"
     ]
    }
   ],
   "source": [
    "ds = breeds.Breeds('/home/ubuntu/scr/biggest/imagenet/', 'living17', source=True, target=False)\n",
    "print(len(ds))"
   ]
  },
  {
   "cell_type": "code",
   "execution_count": 5,
   "metadata": {},
   "outputs": [
    {
     "name": "stdout",
     "output_type": "stream",
     "text": [
      "44200\n"
     ]
    }
   ],
   "source": [
    "ds = breeds.Breeds('/home/ubuntu/scr/biggest/imagenet/', 'living17', source=False, target=True)\n",
    "print(len(ds))"
   ]
  },
  {
   "cell_type": "code",
   "execution_count": 6,
   "metadata": {},
   "outputs": [
    {
     "ename": "TypeError",
     "evalue": "__init__() got an unexpected keyword argument 'downsample'",
     "output_type": "error",
     "traceback": [
      "\u001b[0;31m---------------------------------------------------------------------------\u001b[0m",
      "\u001b[0;31mTypeError\u001b[0m                                 Traceback (most recent call last)",
      "Input \u001b[0;32mIn [6]\u001b[0m, in \u001b[0;36m<cell line: 2>\u001b[0;34m()\u001b[0m\n\u001b[1;32m      1\u001b[0m \u001b[38;5;66;03m# standardization\u001b[39;00m\n\u001b[0;32m----> 2\u001b[0m ds \u001b[38;5;241m=\u001b[39m \u001b[43mbreeds\u001b[49m\u001b[38;5;241;43m.\u001b[39;49m\u001b[43mBreeds\u001b[49m\u001b[43m(\u001b[49m\u001b[38;5;124;43m'\u001b[39;49m\u001b[38;5;124;43m/home/ubuntu/scr/biggest/imagenet/\u001b[39;49m\u001b[38;5;124;43m'\u001b[39;49m\u001b[43m,\u001b[49m\u001b[43m \u001b[49m\u001b[38;5;124;43m'\u001b[39;49m\u001b[38;5;124;43mentity30\u001b[39;49m\u001b[38;5;124;43m'\u001b[39;49m\u001b[43m,\u001b[49m\u001b[43m \u001b[49m\u001b[43msource\u001b[49m\u001b[38;5;241;43m=\u001b[39;49m\u001b[38;5;28;43;01mTrue\u001b[39;49;00m\u001b[43m,\u001b[49m\u001b[43m \u001b[49m\u001b[43mtarget\u001b[49m\u001b[38;5;241;43m=\u001b[39;49m\u001b[38;5;28;43;01mFalse\u001b[39;49;00m\u001b[43m,\u001b[49m\u001b[43m \u001b[49m\u001b[43mdownsample\u001b[49m\u001b[38;5;241;43m=\u001b[39;49m\u001b[38;5;28;43;01mTrue\u001b[39;49;00m\u001b[43m)\u001b[49m\n\u001b[1;32m      3\u001b[0m \u001b[38;5;28mprint\u001b[39m(\u001b[38;5;28mlen\u001b[39m(ds))\n\u001b[1;32m      4\u001b[0m ds \u001b[38;5;241m=\u001b[39m breeds\u001b[38;5;241m.\u001b[39mBreeds(\u001b[38;5;124m'\u001b[39m\u001b[38;5;124m/home/ubuntu/scr/biggest/imagenet/\u001b[39m\u001b[38;5;124m'\u001b[39m, \u001b[38;5;124m'\u001b[39m\u001b[38;5;124mentity30\u001b[39m\u001b[38;5;124m'\u001b[39m, source\u001b[38;5;241m=\u001b[39m\u001b[38;5;28;01mFalse\u001b[39;00m, target\u001b[38;5;241m=\u001b[39m\u001b[38;5;28;01mTrue\u001b[39;00m, downsample\u001b[38;5;241m=\u001b[39m\u001b[38;5;28;01mTrue\u001b[39;00m)\n",
      "\u001b[0;31mTypeError\u001b[0m: __init__() got an unexpected keyword argument 'downsample'"
     ]
    }
   ],
   "source": [
    "# standardization\n",
    "ds = breeds.Breeds('/home/ubuntu/scr/biggest/imagenet/', 'entity30', source=True, target=False, downsample=True)\n",
    "print(len(ds))\n",
    "ds = breeds.Breeds('/home/ubuntu/scr/biggest/imagenet/', 'entity30', source=False, target=True, downsample=True)\n",
    "print(len(ds))\n",
    "ds = breeds.Breeds('/home/ubuntu/scr/biggest/imagenet/', 'entity30', source=True, target=True, downsample=True)\n",
    "print(len(ds))"
   ]
  },
  {
   "cell_type": "code",
   "execution_count": 4,
   "metadata": {},
   "outputs": [
    {
     "name": "stdout",
     "output_type": "stream",
     "text": [
      "Dataset sizes: source (44200), target (44200). Standardizing to the smaller size.\n",
      "44200\n",
      "Dataset sizes: source (44200), target (44200). Standardizing to the smaller size.\n",
      "44200\n",
      "Dataset sizes: source (44200), target (44200). Standardizing to the smaller size.\n",
      "44200\n"
     ]
    }
   ],
   "source": [
    "# standardization\n",
    "ds = breeds.Breeds('/home/ubuntu/scr/biggest/imagenet/', 'living17', source=True, target=False, downsample=True)\n",
    "print(len(ds))\n",
    "ds = breeds.Breeds('/home/ubuntu/scr/biggest/imagenet/', 'living17', source=False, target=True, downsample=True)\n",
    "print(len(ds))\n",
    "ds = breeds.Breeds('/home/ubuntu/scr/biggest/imagenet/', 'living17', source=True, target=True, downsample=True)\n",
    "print(len(ds))"
   ]
  },
  {
   "cell_type": "code",
   "execution_count": null,
   "metadata": {},
   "outputs": [],
   "source": []
  }
 ],
 "metadata": {
  "kernelspec": {
   "display_name": "Python 3 (ipykernel)",
   "language": "python",
   "name": "python3"
  },
  "language_info": {
   "codemirror_mode": {
    "name": "ipython",
    "version": 3
   },
   "file_extension": ".py",
   "mimetype": "text/x-python",
   "name": "python",
   "nbconvert_exporter": "python",
   "pygments_lexer": "ipython3",
   "version": "3.8.10"
  }
 },
 "nbformat": 4,
 "nbformat_minor": 4
}
